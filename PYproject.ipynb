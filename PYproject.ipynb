{
 "cells": [
  {
   "cell_type": "code",
   "execution_count": 1,
   "id": "b2728c62-2c29-4787-94ef-df3703d38862",
   "metadata": {},
   "outputs": [
    {
     "name": "stdout",
     "output_type": "stream",
     "text": [
      "Requirement already satisfied: pandas in c:\\users\\elcot\\appdata\\local\\programs\\python\\python312\\lib\\site-packages (2.2.3)Note: you may need to restart the kernel to use updated packages.\n",
      "\n",
      "Requirement already satisfied: mysql-connector-python in c:\\users\\elcot\\appdata\\local\\programs\\python\\python312\\lib\\site-packages (9.1.0)\n",
      "Requirement already satisfied: tk in c:\\users\\elcot\\appdata\\local\\programs\\python\\python312\\lib\\site-packages (0.1.0)\n",
      "Requirement already satisfied: numpy>=1.26.0 in c:\\users\\elcot\\appdata\\local\\programs\\python\\python312\\lib\\site-packages (from pandas) (2.2.1)\n",
      "Requirement already satisfied: python-dateutil>=2.8.2 in c:\\users\\elcot\\appdata\\local\\programs\\python\\python312\\lib\\site-packages (from pandas) (2.9.0.post0)\n",
      "Requirement already satisfied: pytz>=2020.1 in c:\\users\\elcot\\appdata\\local\\programs\\python\\python312\\lib\\site-packages (from pandas) (2025.1)\n",
      "Requirement already satisfied: tzdata>=2022.7 in c:\\users\\elcot\\appdata\\local\\programs\\python\\python312\\lib\\site-packages (from pandas) (2024.2)\n",
      "Requirement already satisfied: six>=1.5 in c:\\users\\elcot\\appdata\\local\\programs\\python\\python312\\lib\\site-packages (from python-dateutil>=2.8.2->pandas) (1.16.0)\n"
     ]
    }
   ],
   "source": [
    "pip install pandas mysql-connector-python tk"
   ]
  },
  {
   "cell_type": "code",
   "execution_count": null,
   "id": "93eb581d-6fcd-4148-a429-ab6b1d51d5ca",
   "metadata": {},
   "outputs": [],
   "source": [
    "import mysql.connector\n",
    "from tkinter import *\n",
    "from tkinter import ttk, messagebox\n",
    "\n",
    "# Connect to MySQL Database\n",
    "conn = mysql.connector.connect(\n",
    "    host='localhost',\n",
    "    user='root',\n",
    "    password='Sandy2208',\n",
    "    database='attendance_db'\n",
    ")\n",
    "cursor = conn.cursor()\n",
    "\n",
    "# Create Table if not exists\n",
    "cursor.execute(\"\"\"\n",
    "CREATE TABLE IF NOT EXISTS attendance (\n",
    "    id INT AUTO_INCREMENT PRIMARY KEY,\n",
    "    student_name VARCHAR(255) NOT NULL,\n",
    "    date DATE NOT NULL,\n",
    "    status ENUM('Present', 'Absent') NOT NULL\n",
    ")\n",
    "\"\"\")\n",
    "conn.commit()\n",
    "\n",
    "def mark_attendance():\n",
    "    name = name_entry.get()\n",
    "    date = date_entry.get()\n",
    "    status = status_var.get()\n",
    "    if name and date and status:\n",
    "        cursor.execute(\"INSERT INTO attendance (student_name, date, status) VALUES (%s, %s, %s)\", (name, date, status))\n",
    "        conn.commit()\n",
    "        messagebox.showinfo(\"Success\", \"Attendance Marked Successfully\")\n",
    "        view_attendance()\n",
    "    else:\n",
    "        messagebox.showwarning(\"Warning\", \"Please fill all fields\")\n",
    "\n",
    "def view_attendance():\n",
    "    cursor.execute(\"SELECT * FROM attendance\")\n",
    "    records = cursor.fetchall()\n",
    "    attendance_list.delete(*attendance_list.get_children())\n",
    "    for row in records:\n",
    "        attendance_list.insert(\"\", \"end\", values=row)\n",
    "\n",
    "# GUI Application\n",
    "root = Tk()\n",
    "root.title(\"Attendance Tracker\")\n",
    "root.geometry(\"500x400\")\n",
    "\n",
    "Label(root, text=\"Student Name:\").pack()\n",
    "name_entry = Entry(root)\n",
    "name_entry.pack()\n",
    "\n",
    "Label(root, text=\"Date (YYYY-MM-DD):\").pack()\n",
    "date_entry = Entry(root)\n",
    "date_entry.pack()\n",
    "\n",
    "Label(root, text=\"Status:\").pack()\n",
    "status_var = StringVar()\n",
    "status_dropdown = ttk.Combobox(root, textvariable=status_var, values=(\"Present\", \"Absent\"))\n",
    "status_dropdown.pack()\n",
    "status_dropdown.current(0)\n",
    "\n",
    "Button(root, text=\"Mark Attendance\", command=mark_attendance).pack()\n",
    "\n",
    "attendance_list = ttk.Treeview(root, columns=(\"ID\", \"Name\", \"Date\", \"Status\"), show=\"headings\")\n",
    "attendance_list.heading(\"ID\", text=\"ID\")\n",
    "attendance_list.heading(\"Name\", text=\"Student Name\")\n",
    "attendance_list.heading(\"Date\", text=\"Date\")\n",
    "attendance_list.heading(\"Status\", text=\"Status\")\n",
    "attendance_list.pack(fill=BOTH, expand=True)\n",
    "\n",
    "view_attendance()\n",
    "root.mainloop()\n",
    "\n",
    "# Close connection on exit\n",
    "conn.close()\n"
   ]
  },
  {
   "cell_type": "code",
   "execution_count": null,
   "id": "95fb53f9-f33a-40e7-89c5-eda108529890",
   "metadata": {},
   "outputs": [],
   "source": []
  },
  {
   "cell_type": "code",
   "execution_count": null,
   "id": "f59df56c-22a3-4b8e-a1c9-b217f1233f48",
   "metadata": {},
   "outputs": [],
   "source": []
  },
  {
   "cell_type": "code",
   "execution_count": null,
   "id": "3de131c7-8f6e-455c-b482-1bcf3a4b4d55",
   "metadata": {},
   "outputs": [],
   "source": []
  },
  {
   "cell_type": "code",
   "execution_count": null,
   "id": "b06549aa-0b55-48ed-bc6a-78bc7553b266",
   "metadata": {},
   "outputs": [],
   "source": []
  },
  {
   "cell_type": "code",
   "execution_count": null,
   "id": "397e22e1-ce87-45da-840f-52e57ebc0b3e",
   "metadata": {},
   "outputs": [],
   "source": []
  },
  {
   "cell_type": "code",
   "execution_count": null,
   "id": "630d59bc-f2c0-4866-aa10-a52d17ce2470",
   "metadata": {},
   "outputs": [],
   "source": []
  },
  {
   "cell_type": "code",
   "execution_count": null,
   "id": "2b8bcc87-d070-4250-950e-9f0584cc6549",
   "metadata": {},
   "outputs": [],
   "source": []
  },
  {
   "cell_type": "code",
   "execution_count": null,
   "id": "83e4b5f6-db6f-407c-970e-6da58c80581d",
   "metadata": {},
   "outputs": [],
   "source": []
  }
 ],
 "metadata": {
  "kernelspec": {
   "display_name": "Python 3 (ipykernel)",
   "language": "python",
   "name": "python3"
  },
  "language_info": {
   "codemirror_mode": {
    "name": "ipython",
    "version": 3
   },
   "file_extension": ".py",
   "mimetype": "text/x-python",
   "name": "python",
   "nbconvert_exporter": "python",
   "pygments_lexer": "ipython3",
   "version": "3.12.6"
  }
 },
 "nbformat": 4,
 "nbformat_minor": 5
}
